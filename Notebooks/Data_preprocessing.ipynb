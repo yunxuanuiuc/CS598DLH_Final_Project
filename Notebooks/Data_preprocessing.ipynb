{
  "cells": [
    {
      "cell_type": "markdown",
      "metadata": {
        "id": "rqLHGdj-MN3n"
      },
      "source": [
        "# Preprocess obesity challenge data\n",
        "This notebook preprocesses MIMIC-III and obesity data to make them ready for apache cTAKES CUI extraction, and extract CUIs from the output xmi files of cTAKES process.\n",
        "\n",
        "Steps:\n",
        "1. Process MIMIC-III files\n",
        "2. Process Obesity data - convert xml file to txt\n",
        "2. Use Ctake to get CUIs (xmi file)\n",
        "3. read xmi file, extract CUIs, and convert to txt \n",
        " \n"
      ]
    },
    {
      "cell_type": "code",
      "execution_count": null,
      "metadata": {
        "colab": {
          "base_uri": "https://localhost:8080/"
        },
        "id": "sIU6jDAEkISc",
        "outputId": "638ce1f7-b47f-4f9e-e6db-8c20e8c80d10"
      },
      "outputs": [
        {
          "output_type": "stream",
          "name": "stdout",
          "text": [
            "Mounted at /content/drive\n"
          ]
        }
      ],
      "source": [
        "from google.colab import drive\n",
        "drive.mount('/content/drive')"
      ]
    },
    {
      "cell_type": "code",
      "execution_count": null,
      "metadata": {
        "id": "SHZsBwKEEczJ"
      },
      "outputs": [],
      "source": [
        "import xml.etree.ElementTree as ET\n",
        "#https://docs.python.org/3/library/xml.etree.elementtree.html\n",
        "import pandas as pd\n",
        "import re\n",
        "import shutil\n",
        "import numpy as np\n",
        "import sys\n",
        "import os, os.path\n",
        "import shutil"
      ]
    },
    {
      "cell_type": "markdown",
      "source": [
        "# Step 1: Preprocess MIMIC-III data for CUI extraction"
      ],
      "metadata": {
        "id": "TMMA6EPhx9Q9"
      }
    },
    {
      "cell_type": "code",
      "source": [
        "notes = pd.read_csv(\"drive/MyDrive/mimic-iii/NOTEEVENTS.csv\")\n",
        "sorted_notes = notes.sort_values(\"SUBJECT_ID\").reset_index(drop=True)\n",
        "sorted_notes.head()"
      ],
      "metadata": {
        "id": "y8pFO-Wox9Yh"
      },
      "execution_count": null,
      "outputs": []
    },
    {
      "cell_type": "code",
      "source": [
        "sorted_notes[\"TEXT\"] = sorted_notes[\"TEXT\"].str.replace(\"\\n\", \" \")\n",
        "sorted_notes.head()"
      ],
      "metadata": {
        "id": "RI-_QMILyEFE"
      },
      "execution_count": null,
      "outputs": []
    },
    {
      "cell_type": "code",
      "source": [
        "for i in range(len(sorted_notes)):\n",
        "  text = sorted_notes.loc[i, \"TEXT\"]\n",
        "  # these illegal chars block the CUI extraction of apache ctakes\n",
        "  illegal_xml_chars_re = re.compile(u'[\\x00-\\x08\\x0b\\x0c\\x0e-\\x1F\\uD800-\\uDFFF\\uFFFE\\uFFFF]')\n",
        "  if illegal_xml_chars_re.search(text):\n",
        "    print(i,sorted_notes.loc[i, \"SUBJECT_ID\"], sorted_notes.loc[i, \"TEXT\"])\n",
        "    new_text = illegal_xml_chars_re.sub('', text)\n",
        "    sorted_notes.loc[i, \"TEXT\"] = new_text\n"
      ],
      "metadata": {
        "id": "UKnoIh1iyG2q"
      },
      "execution_count": null,
      "outputs": []
    },
    {
      "cell_type": "code",
      "source": [
        "#go through sorted table and write each patient's aggregated clinical notes into a file\n",
        "file_str = sorted_notes.loc[0, \"TEXT\"]\n",
        "query_patient = sorted_notes.loc[0, \"SUBJECT_ID\"]\n",
        "\n",
        "for i in range(1, len(sorted_notes)):\n",
        "  if (i % 10000) == 0:\n",
        "    print(i)\n",
        "\n",
        "  curr_patient = sorted_notes.loc[i, \"SUBJECT_ID\"]\n",
        "  if curr_patient == query_patient:\n",
        "    file_str += \" \" + sorted_notes.loc[i, \"TEXT\"]\n",
        "  else:\n",
        "    with open(\"drive/MyDrive/mimic-iii/notes_2/patient_{}.txt\".format(query_patient), \"w\") as f:\n",
        "      f.write(file_str)\n",
        "    query_patient = curr_patient\n",
        "    file_str = sorted_notes.loc[i, \"TEXT\"]\n",
        "\n",
        "#handle end\n",
        "with open(\"drive/MyDrive/mimic-iii/notes_2/patient_{}.txt\".format(query_patient), \"w\") as f:\n",
        "  f.write(file_str)"
      ],
      "metadata": {
        "id": "I3d76TTOyKs_"
      },
      "execution_count": null,
      "outputs": []
    },
    {
      "cell_type": "code",
      "source": [
        "# saving processed files\n",
        "# path joining version for other paths\n",
        "DIR = 'drive/MyDrive/mimic-iii/notes_2'\n",
        "print(len([name for name in os.listdir(DIR) if os.path.isfile(os.path.join(DIR, name))]))"
      ],
      "metadata": {
        "id": "fIzri4p7ySIi"
      },
      "execution_count": null,
      "outputs": []
    },
    {
      "cell_type": "code",
      "source": [
        "shutil.make_archive('drive/MyDrive/mimic-iii/notes_patients_2', 'zip', 'drive/MyDrive/mimic-iii/notes_2')"
      ],
      "metadata": {
        "id": "OOhyzD5WyVJ5"
      },
      "execution_count": null,
      "outputs": []
    },
    {
      "cell_type": "markdown",
      "metadata": {
        "id": "_HCYq_AKyGE6"
      },
      "source": [
        "# Step 2: Convert raw Obesity Challenge data to individual txt per patient"
      ]
    },
    {
      "cell_type": "code",
      "execution_count": null,
      "metadata": {
        "id": "J9cTArJQVZLN"
      },
      "outputs": [],
      "source": [
        "# convert xml to individual txt for ctakes pipeline to process and extract CUI\n",
        "def xml2txts(file_path, out_path): \n",
        "  text = ET.parse(file_path)\n",
        "  for patient in text.iter('doc'):\n",
        "  #print(patient.attrib)\n",
        "    uid = patient.attrib['id']\n",
        "    notes = patient[0].text\n",
        "    path = f\"{out_path}{uid}.txt\"\n",
        "    with open(path, 'w') as f:\n",
        "      f.write(notes)"
      ]
    },
    {
      "cell_type": "code",
      "execution_count": null,
      "metadata": {
        "id": "S1M77YXv9ja-"
      },
      "outputs": [],
      "source": [
        "file_path_test = '/content/drive/My Drive/Obesity challenge/obesity_patient_records_test.xml'\n",
        "out_path_test = \"/content/drive/My Drive/Obesity challenge/test_data_txt/\""
      ]
    },
    {
      "cell_type": "code",
      "execution_count": null,
      "metadata": {
        "id": "TFh4lODnevHO"
      },
      "outputs": [],
      "source": [
        "# process test data into files\n",
        "xml2txts(file_path_test, out_path_test)"
      ]
    },
    {
      "cell_type": "code",
      "execution_count": null,
      "metadata": {
        "id": "4f_EeeC2fQm-"
      },
      "outputs": [],
      "source": [
        "# process train data into txt files\n",
        "file_path_train1 = '/content/drive/My Drive/Obesity challenge/obesity_patient_records_training.xml'\n",
        "out_path_train1 = \"/content/drive/My Drive/Obesity challenge/train_data_txt/\"\n",
        "file_path_train2 = '/content/drive/My Drive/Obesity challenge/obesity_patient_records_training2.xml'\n",
        "out_path_train2 = \"/content/drive/My Drive/Obesity challenge/train_data2_txt/\""
      ]
    },
    {
      "cell_type": "code",
      "execution_count": null,
      "metadata": {
        "id": "nkJbpwO8gEMX"
      },
      "outputs": [],
      "source": [
        "xml2txts(file_path_train1, out_path_train1)\n",
        "xml2txts(file_path_train2, out_path_train2)"
      ]
    },
    {
      "cell_type": "code",
      "source": [
        ""
      ],
      "metadata": {
        "id": "U5-m0srjJMMp"
      },
      "execution_count": null,
      "outputs": []
    },
    {
      "cell_type": "markdown",
      "source": [
        "# Step 3: Process txt files with clinical notes with Apache ctakes (offline)"
      ],
      "metadata": {
        "id": "K-dfOta55iAS"
      }
    },
    {
      "cell_type": "markdown",
      "source": [
        "# Step 4: Extract CUIs from processed xmi files"
      ],
      "metadata": {
        "id": "oa6d_QZx5pVN"
      }
    },
    {
      "cell_type": "code",
      "source": [
        "def extractCUIs4Patient(patient_xmi_path='/content/drive/My Drive/Obesity challenge/test_data_output/3.txt.xmi'):\n",
        "  singleDoc = ET.parse(patient_xmi_path)\n",
        "  patient_id = int(re.findall('\\d+(?=.txt.xmi)',patient_xmi_path)[0])\n",
        "  res = []\n",
        "  for unit in singleDoc.iter(\"{http:///org/apache/ctakes/typesystem/type/refsem.ecore}UmlsConcept\"):\n",
        "    current_cui = unit.attrib['cui']\n",
        "    res.append(current_cui)\n",
        "  result = \" \".join(res)\n",
        "  return patient_id, result"
      ],
      "metadata": {
        "id": "mJSqhes7I25-"
      },
      "execution_count": null,
      "outputs": []
    },
    {
      "cell_type": "code",
      "source": [
        "mimic_path = \"/content/drive/My Drive/MIMIC/output_first_half_selected/\"\n",
        "for file in os.listdir(mimic_path):\n",
        "  file_path = mimic_path+file\n",
        "  try:\n",
        "    id, res = extractCUIs4Patient(file_path)\n",
        "    with open(f'/content/drive/My Drive/MIMIC/output_first_half_selected_cuis/patient_{id}.txt', 'w') as f:\n",
        "      f.write(res)\n",
        "  except:\n",
        "    print (\"An exeption occured\")\n",
        "    continue\n",
        "  i+=1\n",
        "  if i%100==0:\n",
        "    print(f\"finished extracting {i} files...\")"
      ],
      "metadata": {
        "colab": {
          "base_uri": "https://localhost:8080/"
        },
        "id": "xZstZrN_onmf",
        "outputId": "0fac2e06-b6d5-477c-b4aa-4a5c9ed9c040"
      },
      "execution_count": null,
      "outputs": [
        {
          "output_type": "stream",
          "name": "stdout",
          "text": [
            "finished extracting 400 files...\n",
            "finished extracting 500 files...\n",
            "An exeption occured\n",
            "finished extracting 600 files...\n",
            "finished extracting 700 files...\n",
            "An exeption occured\n",
            "An exeption occured\n",
            "An exeption occured\n",
            "An exeption occured\n",
            "finished extracting 800 files...\n",
            "finished extracting 900 files...\n",
            "An exeption occured\n",
            "finished extracting 1000 files...\n",
            "An exeption occured\n",
            "finished extracting 1100 files...\n",
            "An exeption occured\n",
            "An exeption occured\n",
            "finished extracting 1200 files...\n",
            "An exeption occured\n",
            "finished extracting 1300 files...\n",
            "finished extracting 1400 files...\n",
            "An exeption occured\n",
            "finished extracting 1500 files...\n",
            "An exeption occured\n",
            "finished extracting 1600 files...\n",
            "An exeption occured\n",
            "An exeption occured\n",
            "finished extracting 1700 files...\n",
            "An exeption occured\n"
          ]
        }
      ]
    },
    {
      "cell_type": "code",
      "source": [
        "#for obesity data\n",
        "i=0\n",
        "train_data_path = \"/content/drive/My Drive/Obesity challenge/train_data_output2/\"\n",
        "for file in os.listdir(train_data_path):\n",
        "  file_path = train_data_path+file\n",
        "  id, res = extractCUIs4Patient(file_path)\n",
        "  with open(f'/content/drive/My Drive/Obesity challenge/train_data_cuis/{id}.txt', 'w') as f:\n",
        "    f.write(res)\n",
        "  i+=1\n",
        "  if i%10==0:\n",
        "    print(f\"finished extracting {i} files...\")"
      ],
      "metadata": {
        "colab": {
          "base_uri": "https://localhost:8080/"
        },
        "id": "H_7yjqU-wGOj",
        "outputId": "dc138008-a7a8-4aa7-9fba-ceb6c09d8b18"
      },
      "execution_count": null,
      "outputs": [
        {
          "output_type": "stream",
          "name": "stdout",
          "text": [
            "finished extracting 10 files...\n",
            "finished extracting 20 files...\n",
            "finished extracting 30 files...\n",
            "finished extracting 40 files...\n",
            "finished extracting 50 files...\n",
            "finished extracting 60 files...\n",
            "finished extracting 70 files...\n",
            "finished extracting 80 files...\n",
            "finished extracting 90 files...\n",
            "finished extracting 100 files...\n",
            "finished extracting 110 files...\n"
          ]
        }
      ]
    },
    {
      "cell_type": "code",
      "source": [
        "#for obesity data test\n",
        "i=0\n",
        "test_data_path = \"/content/drive/My Drive/Obesity challenge/test_data_output/\"\n",
        "for file in os.listdir(test_data_path):\n",
        "  file_path = test_data_path+file\n",
        "  id, res = extractCUIs4Patient(file_path)\n",
        "  with open(f'/content/drive/My Drive/Obesity challenge/test_data_cuis/{id}.txt', 'w') as f:\n",
        "    f.write(res)\n",
        "  i+=1\n",
        "  if i%10==0:\n",
        "    print(f\"finished extracting {i} files...\")"
      ],
      "metadata": {
        "id": "ZDhLM7TVaV55",
        "colab": {
          "base_uri": "https://localhost:8080/"
        },
        "outputId": "fc3f1317-2cf8-4471-b8be-91b48e0eb85d"
      },
      "execution_count": null,
      "outputs": [
        {
          "output_type": "stream",
          "name": "stdout",
          "text": [
            "finished extracting 10 files...\n",
            "finished extracting 20 files...\n",
            "finished extracting 30 files...\n",
            "finished extracting 40 files...\n",
            "finished extracting 50 files...\n",
            "finished extracting 60 files...\n",
            "finished extracting 70 files...\n",
            "finished extracting 80 files...\n",
            "finished extracting 90 files...\n",
            "finished extracting 100 files...\n",
            "finished extracting 110 files...\n",
            "finished extracting 120 files...\n",
            "finished extracting 130 files...\n",
            "finished extracting 140 files...\n",
            "finished extracting 150 files...\n",
            "finished extracting 160 files...\n",
            "finished extracting 170 files...\n"
          ]
        }
      ]
    },
    {
      "cell_type": "code",
      "source": [
        ""
      ],
      "metadata": {
        "id": "COhKusFCrcDc"
      },
      "execution_count": null,
      "outputs": []
    }
  ],
  "metadata": {
    "colab": {
      "collapsed_sections": [],
      "name": "Data_preprocessing.ipynb",
      "provenance": []
    },
    "kernelspec": {
      "display_name": "Python 3",
      "name": "python3"
    },
    "language_info": {
      "name": "python"
    }
  },
  "nbformat": 4,
  "nbformat_minor": 0
}